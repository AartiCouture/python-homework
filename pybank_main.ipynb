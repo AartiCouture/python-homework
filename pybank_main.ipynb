{
 "cells": [
  {
   "cell_type": "code",
   "execution_count": 166,
   "id": "b60b023f-c070-47e9-9d2a-4b8994be1c25",
   "metadata": {},
   "outputs": [],
   "source": [
    "import csv\n",
    "from pathlib import Path"
   ]
  },
  {
   "cell_type": "code",
   "execution_count": 209,
   "id": "c6692d97-d402-4ac1-a052-7ba6f7bf43d5",
   "metadata": {},
   "outputs": [],
   "source": [
    "file_to_load = Path(\"budget_data.csv\")\n",
    "file_to_output = Path(\"analysis\", \"financial_analysis.txt\", \"delimiter ','\")\n",
    "\n"
   ]
  },
  {
   "cell_type": "code",
   "execution_count": 210,
   "id": "9bca4b82-aaa3-4113-8972-9b2fca13b497",
   "metadata": {},
   "outputs": [],
   "source": [
    "total_months = 0\n",
    "net_total = 0\n",
    "months_change = []\n",
    "average_change = []\n",
    "greatest_increase =[\"\",0]\n",
    "greatest_decrease = [0,9999999]\n",
    "total_average = 0\n",
    "pre_val = 0\n",
    "\n"
   ]
  },
  {
   "cell_type": "code",
   "execution_count": 211,
   "id": "62d1ed20-f9f5-4169-a9c0-2c20860a6d81",
   "metadata": {},
   "outputs": [],
   "source": [
    "with open(file_to_load) as budget_analysis:\n",
    "    csvreader = csv.reader(budget_analysis)\n",
    "    csv_header = next(csvreader)\n",
    "    for row in csvreader:\n",
    "        \n",
    "        \n",
    "        total_months += 1\n",
    "        \n",
    "        net_total += int(row[1])\n",
    "        change = int(row[1])-pre_val\n",
    "        if pre_val ==0:\n",
    "            pre_val = int(row[1])\n",
    "        else:\n",
    "            \n",
    "            months_change.append(change)\n",
    "            pre_val = int(row[1])\n",
    "\n",
    "        \n",
    "        if int(change) > int(greatest_increase[1]) and total_months > 1:\n",
    "            greatest_increase = row\n",
    "        \n",
    "        if int(change) < int(greatest_decrease[1]) and total_months > 1:\n",
    "            greatest_decrease = row\n",
    "            \n",
    "            \n",
    "       "
   ]
  },
  {
   "cell_type": "code",
   "execution_count": 201,
   "id": "3801a57c-2ca7-4d0a-ae03-56e2b79274bf",
   "metadata": {},
   "outputs": [
    {
     "name": "stdout",
     "output_type": "stream",
     "text": [
      "38382578\n",
      "['Nov-2016', '795914']\n",
      "['Jul-2016', '-1163797']\n"
     ]
    }
   ],
   "source": [
    "print(net_total)\n",
    "print(greatest_increase)\n",
    "print(greatest_decrease)"
   ]
  },
  {
   "cell_type": "code",
   "execution_count": 212,
   "id": "0f64c009-097a-4935-820d-811615b93e6c",
   "metadata": {},
   "outputs": [],
   "source": [
    "average_change= sum(months_change)/len(months_change)\n",
    "\n",
    "          \n",
    "     \n",
    "               "
   ]
  },
  {
   "cell_type": "code",
   "execution_count": 213,
   "id": "6909248a-2bce-4d27-82f7-d858ae5a41a5",
   "metadata": {},
   "outputs": [
    {
     "name": "stdout",
     "output_type": "stream",
     "text": [
      "86\n"
     ]
    }
   ],
   "source": [
    "print(total_months)"
   ]
  },
  {
   "cell_type": "code",
   "execution_count": 214,
   "id": "08766f73-4eda-4473-96d9-16caad6667c7",
   "metadata": {},
   "outputs": [
    {
     "name": "stdout",
     "output_type": "stream",
     "text": [
      "[116771, -662642, -391430, 379920, 212354, 510239, -428211, -821271, 693918, 416278, -974163, 860159, -1115009, 1033048, 95318, -308093, 99052, -521393, 605450, 231727, -65187, -702716, 177975, -1065544, 1926159, -917805, 898730, -334262, -246499, -64055, -1529236, 1497596, 304914, -635801, 398319, -183161, -37864, -253689, 403655, 94168, 306877, -83000, 210462, -2196167, 1465222, -956983, 1838447, -468003, -64602, 206242, -242155, -449079, 315198, 241099, 111540, 365942, -219310, -368665, 409837, 151210, -110244, -341938, -1212159, 683246, -70825, 335594, 417334, -272194, -236462, 657432, -211262, -128237, -1750387, 925441, 932089, -311434, 267252, -1876758, 1733696, 198551, -665765, 693229, -734926, 77242, 532869]\n"
     ]
    }
   ],
   "source": [
    "print(months_change)"
   ]
  },
  {
   "cell_type": "code",
   "execution_count": 215,
   "id": "4ca12757-f32b-4623-ae86-cf5577656563",
   "metadata": {},
   "outputs": [
    {
     "name": "stdout",
     "output_type": "stream",
     "text": [
      "-2315.1176470588234\n"
     ]
    }
   ],
   "source": [
    "print(average_change)"
   ]
  },
  {
   "cell_type": "code",
   "execution_count": 216,
   "id": "bc5c23cb-50b8-49c0-97d6-866c020335ca",
   "metadata": {},
   "outputs": [],
   "source": [
    "output = (\n",
    "    f\"\\nFinancial Analysis\\n\"\n",
    "    f\"----------------------------\\n\"\n",
    "    f\"Total Months: {total_months}\\n\"\n",
    "    f\"Total: ${net_total}\\n\"\n",
    "    f\"Average  Change: ${average_change:.2f}\\n\"\n",
    "    f\"Greatest Increase in Profits: {greatest_increase[0]} (${greatest_increase[1]})\\n\"\n",
    "    f\"Greatest Decrease in Profits: {greatest_decrease[0]} (${greatest_decrease[1]})\\n\") \n",
    "    \n",
    "\n"
   ]
  },
  {
   "cell_type": "code",
   "execution_count": 221,
   "id": "3daf2ad3-4b57-4165-b9af-182a13c54a55",
   "metadata": {},
   "outputs": [
    {
     "name": "stdout",
     "output_type": "stream",
     "text": [
      "\n",
      "Financial Analysis\n",
      "----------------------------\n",
      "Total Months: 86\n",
      "Total: $38382578\n",
      "Average  Change: $-2315.12\n",
      "Greatest Increase in Profits: Nov-2016 ($795914)\n",
      "Greatest Decrease in Profits: Jul-2016 ($-1163797)\n",
      "\n"
     ]
    }
   ],
   "source": [
    "print(output)"
   ]
  },
  {
   "cell_type": "code",
   "execution_count": 223,
   "id": "e830ccd5-0b27-4459-be95-daf94f336bc5",
   "metadata": {},
   "outputs": [],
   "source": [
    "with open(\"Financial Analysis\", \"w\") as txt_file:\n",
    "    txt_file.write(output)\n"
   ]
  },
  {
   "cell_type": "code",
   "execution_count": null,
   "id": "b36312f5-6dc5-41bf-afaf-d93baab2e3a0",
   "metadata": {},
   "outputs": [],
   "source": []
  }
 ],
 "metadata": {
  "kernelspec": {
   "display_name": "Python 3",
   "language": "python",
   "name": "python3"
  },
  "language_info": {
   "codemirror_mode": {
    "name": "ipython",
    "version": 3
   },
   "file_extension": ".py",
   "mimetype": "text/x-python",
   "name": "python",
   "nbconvert_exporter": "python",
   "pygments_lexer": "ipython3",
   "version": "3.7.10"
  }
 },
 "nbformat": 4,
 "nbformat_minor": 5
}
